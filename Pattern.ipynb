{
 "cells": [
  {
   "cell_type": "markdown",
   "id": "a287e460",
   "metadata": {},
   "source": [
    "*\n",
    "**\n",
    "***\n",
    "****\n",
    "*****\n",
    "******"
   ]
  },
  {
   "cell_type": "code",
   "execution_count": 1,
   "id": "9a152863",
   "metadata": {},
   "outputs": [
    {
     "name": "stdout",
     "output_type": "stream",
     "text": [
      "*\n",
      "**\n",
      "***\n",
      "****\n",
      "*****\n",
      "******\n",
      "*******\n"
     ]
    }
   ],
   "source": [
    "for i in range(1,8):\n",
    "    print(\"*\"*i)"
   ]
  },
  {
   "cell_type": "code",
   "execution_count": 5,
   "id": "087fa372",
   "metadata": {},
   "outputs": [
    {
     "name": "stdout",
     "output_type": "stream",
     "text": [
      "*\n",
      "**\n",
      "***\n",
      "****\n",
      "*****\n",
      "******\n",
      "*******\n"
     ]
    }
   ],
   "source": [
    "##using recursion \n",
    "\n",
    "def pattern(raw):\n",
    "    if raw :\n",
    "        pattern(raw-1)\n",
    "        print(\"*\"*raw, end='\\n')\n",
    "pattern(7)"
   ]
  },
  {
   "cell_type": "code",
   "execution_count": null,
   "id": "802c2b2b",
   "metadata": {},
   "outputs": [],
   "source": [
    "1\n",
    "22\n",
    "333\n",
    "4444\n",
    "55555\n",
    "666666\n",
    "7777777\n"
   ]
  },
  {
   "cell_type": "code",
   "execution_count": 2,
   "id": "4ce0027d",
   "metadata": {},
   "outputs": [
    {
     "name": "stdout",
     "output_type": "stream",
     "text": [
      "1\n",
      "22\n",
      "333\n",
      "4444\n",
      "55555\n",
      "666666\n",
      "7777777\n"
     ]
    }
   ],
   "source": [
    "for i in range(1,8):\n",
    "    print(str(i)*i)"
   ]
  },
  {
   "cell_type": "code",
   "execution_count": 8,
   "id": "9f1df55e",
   "metadata": {},
   "outputs": [
    {
     "name": "stdout",
     "output_type": "stream",
     "text": [
      "1\n",
      "22\n",
      "333\n",
      "4444\n",
      "55555\n",
      "666666\n",
      "7777777\n"
     ]
    }
   ],
   "source": [
    "## Using recursion\n",
    "def pattern(raw):\n",
    "    if raw:\n",
    "        pattern(raw-1)\n",
    "        print(str(raw)*raw,end='\\n')\n",
    "pattern(7)"
   ]
  },
  {
   "cell_type": "markdown",
   "id": "869279f0",
   "metadata": {},
   "source": [
    "#### 1\n",
    "#### 12\n",
    "#### 123\n",
    "#### 1234\n",
    "#### 12345\n",
    "#### 123456\n",
    "#### 1234567"
   ]
  },
  {
   "cell_type": "code",
   "execution_count": 5,
   "id": "edc66369",
   "metadata": {},
   "outputs": [
    {
     "name": "stdout",
     "output_type": "stream",
     "text": [
      "1\n",
      "12\n",
      "123\n",
      "1234\n",
      "12345\n",
      "123456\n",
      "1234567\n"
     ]
    }
   ],
   "source": [
    "for i in range(1,8):\n",
    "    for j in range(1,i+1):\n",
    "        print(j,sep=\"\",end=\"\")\n",
    "    print()"
   ]
  },
  {
   "cell_type": "code",
   "execution_count": 17,
   "id": "f6f8ab9d",
   "metadata": {},
   "outputs": [
    {
     "name": "stdout",
     "output_type": "stream",
     "text": [
      "\n",
      "1\n",
      "12\n",
      "123\n",
      "1234\n",
      "12345"
     ]
    }
   ],
   "source": [
    "#using recurion\n",
    "def pattern(raw,c=5,i=1):\n",
    "    if raw<c:\n",
    "        print(i,sep='',end='')\n",
    "        pattern(raw,c-1,i+1)\n",
    "    elif raw:\n",
    "        print()\n",
    "        pattern(raw-1,c=5,i=1)\n",
    "    \n",
    "pattern(5)"
   ]
  },
  {
   "cell_type": "markdown",
   "id": "48b6f233",
   "metadata": {},
   "source": [
    "2\n",
    "34\n",
    "456\n",
    "5678\n",
    "678910"
   ]
  },
  {
   "cell_type": "code",
   "execution_count": 10,
   "id": "1a3899f8",
   "metadata": {},
   "outputs": [
    {
     "name": "stdout",
     "output_type": "stream",
     "text": [
      "2\n",
      "34\n",
      "456\n",
      "5678\n",
      "678910\n"
     ]
    }
   ],
   "source": [
    "for i in range(1,6):\n",
    "    for j in range(i,2*i):\n",
    "        print(j+1, sep='',end='')\n",
    "    print()"
   ]
  },
  {
   "cell_type": "code",
   "execution_count": null,
   "id": "97244da8",
   "metadata": {},
   "outputs": [],
   "source": []
  },
  {
   "cell_type": "markdown",
   "id": "4b487b7d",
   "metadata": {},
   "source": [
    "1\n",
    "101\n",
    "0101\n",
    "10101\n",
    "010101"
   ]
  },
  {
   "cell_type": "code",
   "execution_count": 1,
   "id": "a26e6fb0",
   "metadata": {},
   "outputs": [
    {
     "name": "stdout",
     "output_type": "stream",
     "text": [
      "1\n",
      "01\n",
      "101\n",
      "0101\n",
      "10101\n"
     ]
    }
   ],
   "source": [
    "flag=1\n",
    "for i in range(1,6):\n",
    "    start=flag\n",
    "    for j in range(1,i+1):\n",
    "        print(flag,end='')\n",
    "        if flag:\n",
    "            flag=0\n",
    "        else:\n",
    "            flag=1\n",
    "    if start:\n",
    "        flag=0\n",
    "    else:\n",
    "        flag=1\n",
    "    print()"
   ]
  },
  {
   "cell_type": "markdown",
   "id": "38f29058",
   "metadata": {},
   "source": [
    "1\n",
    "2 3\n",
    "3 4 5\n",
    "6 7 8 9\n",
    "10 11 12 13\n"
   ]
  },
  {
   "cell_type": "code",
   "execution_count": 26,
   "id": "7e0732fb",
   "metadata": {},
   "outputs": [
    {
     "name": "stdout",
     "output_type": "stream",
     "text": [
      "1 \n",
      "2 3 \n",
      "4 5 6 \n",
      "7 8 9 10 \n",
      "11 12 13 14 15 \n"
     ]
    }
   ],
   "source": [
    "temp=1\n",
    "for i in range(1,6):\n",
    "    for j in range(1,i+1):\n",
    "        print(temp,sep=\"\\t\",end=' ')\n",
    "        temp+=1\n",
    "    print()"
   ]
  },
  {
   "cell_type": "code",
   "execution_count": 29,
   "id": "0c554c37",
   "metadata": {
    "scrolled": true
   },
   "outputs": [
    {
     "name": "stdout",
     "output_type": "stream",
     "text": [
      "5\n",
      "54\n",
      "543\n",
      "5432\n",
      "54321\n"
     ]
    }
   ],
   "source": [
    "for i in range(1,6):\n",
    "    for j in range(5,5-i,-1):\n",
    "        print(j,end='')\n",
    "    print()"
   ]
  },
  {
   "cell_type": "code",
   "execution_count": 5,
   "id": "c37ccfe7",
   "metadata": {},
   "outputs": [
    {
     "name": "stdout",
     "output_type": "stream",
     "text": [
      "\n",
      "5\n",
      "54\n",
      "543\n",
      "5432\n",
      "54321"
     ]
    }
   ],
   "source": [
    "# using recursion\n",
    "def pattern(raw,c=5):\n",
    "    if raw<c:\n",
    "        print(c,sep='',end='')\n",
    "        pattern(raw,c-1)\n",
    "    elif raw:\n",
    "        print()\n",
    "        pattern(raw-1,c=5)\n",
    "    \n",
    "pattern(5)"
   ]
  },
  {
   "cell_type": "markdown",
   "id": "b3d847cb",
   "metadata": {},
   "source": [
    "5\n",
    "44\n",
    "333\n",
    "2222\n",
    "11111\n"
   ]
  },
  {
   "cell_type": "code",
   "execution_count": 36,
   "id": "7179de19",
   "metadata": {
    "scrolled": true
   },
   "outputs": [
    {
     "name": "stdout",
     "output_type": "stream",
     "text": [
      "5\n",
      "44\n",
      "333\n",
      "2222\n",
      "11111\n"
     ]
    }
   ],
   "source": [
    "count=1\n",
    "for i in range(5,0,-1):\n",
    "    print(str(i)*count)\n",
    "    count+=1"
   ]
  },
  {
   "cell_type": "code",
   "execution_count": 38,
   "id": "3410f91c",
   "metadata": {},
   "outputs": [
    {
     "name": "stdout",
     "output_type": "stream",
     "text": [
      "**********\n",
      "*********\n",
      "********\n",
      "*******\n",
      "******\n",
      "*****\n",
      "****\n",
      "***\n",
      "**\n",
      "*\n"
     ]
    }
   ],
   "source": [
    "for i in range(10,0,-1):\n",
    "    print(\"*\"*i)"
   ]
  },
  {
   "cell_type": "markdown",
   "id": "7809a012",
   "metadata": {},
   "source": [
    "11111\n",
    "2222\n",
    "333\n",
    "22\n",
    "1"
   ]
  },
  {
   "cell_type": "code",
   "execution_count": 41,
   "id": "8685bbaa",
   "metadata": {},
   "outputs": [
    {
     "name": "stdout",
     "output_type": "stream",
     "text": [
      "11111\n",
      "2222\n",
      "333\n",
      "22\n",
      "1\n"
     ]
    }
   ],
   "source": [
    "raw=5\n",
    "count=1\n",
    "for i in range(1,6):\n",
    "    for j in range(1,raw+1):\n",
    "        print(count,end='')\n",
    "    if raw==count:\n",
    "        count-=1\n",
    "    else:\n",
    "        count+=1\n",
    "    raw-=1\n",
    "    print()"
   ]
  },
  {
   "cell_type": "markdown",
   "id": "e7c1e719",
   "metadata": {},
   "source": [
    "12345\n",
    "1234\n",
    "123\n",
    "12\n",
    "1"
   ]
  },
  {
   "cell_type": "code",
   "execution_count": 42,
   "id": "3d7bb1d1",
   "metadata": {},
   "outputs": [
    {
     "name": "stdout",
     "output_type": "stream",
     "text": [
      "12345\n",
      "1234\n",
      "123\n",
      "12\n",
      "1\n"
     ]
    }
   ],
   "source": [
    "raw=5\n",
    "for i in range(1,6):\n",
    "    count=1\n",
    "    for j in range(1,raw+1):\n",
    "        print(count,end='')\n",
    "        count+=1\n",
    "    raw-=1\n",
    "    print()"
   ]
  },
  {
   "cell_type": "code",
   "execution_count": null,
   "id": "e549892b",
   "metadata": {},
   "outputs": [],
   "source": [
    "#using recursion\n",
    "def pattern(raw,c=1):\n",
    "    if raw>=c:\n",
    "        print(c,sep='',end='')\n",
    "        pattern(raw,c+1)\n",
    "    elif raw:\n",
    "        print()\n",
    "        pattern(raw-1,c=1)\n",
    "    \n",
    "pattern(6)"
   ]
  },
  {
   "cell_type": "markdown",
   "id": "534f3fa1",
   "metadata": {},
   "source": [
    "55555\n",
    "4444\n",
    "333\n",
    "22\n",
    "1\n",
    "\n"
   ]
  },
  {
   "cell_type": "code",
   "execution_count": 46,
   "id": "74bd30e8",
   "metadata": {},
   "outputs": [
    {
     "name": "stdout",
     "output_type": "stream",
     "text": [
      "55555\n",
      "4444\n",
      "333\n",
      "22\n",
      "1\n"
     ]
    }
   ],
   "source": [
    "raw=5\n",
    "for i in range(1,6):\n",
    "    for j in range(1,raw+1):\n",
    "        print(raw,end='')\n",
    "    raw-=1\n",
    "    print()\n",
    "\n",
    "        "
   ]
  },
  {
   "cell_type": "markdown",
   "id": "d37cb593",
   "metadata": {},
   "source": [
    "54321\n",
    "5432\n",
    "543\n",
    "54\n",
    "5\n"
   ]
  },
  {
   "cell_type": "code",
   "execution_count": 47,
   "id": "1cc13558",
   "metadata": {},
   "outputs": [
    {
     "name": "stdout",
     "output_type": "stream",
     "text": [
      "54321\n",
      "5432\n",
      "543\n",
      "54\n",
      "5\n"
     ]
    }
   ],
   "source": [
    "raw=5\n",
    "for i in range(1,6):\n",
    "    count=5\n",
    "    for j in range(1,raw+1):\n",
    "        print(count,end='')\n",
    "        count-=1\n",
    "    raw-=1\n",
    "    print()"
   ]
  },
  {
   "cell_type": "code",
   "execution_count": 8,
   "id": "53e1306a",
   "metadata": {},
   "outputs": [
    {
     "name": "stdout",
     "output_type": "stream",
     "text": [
      "    *    \n",
      "    **   \n",
      "   ***   \n",
      "   ****  \n",
      "  *****  \n",
      "  ****** \n",
      " ******* \n",
      " ********\n",
      "*********\n"
     ]
    }
   ],
   "source": [
    "for i in range(1,10):\n",
    "    print((\"*\"*i).center(9))"
   ]
  },
  {
   "cell_type": "code",
   "execution_count": null,
   "id": "97ef684a",
   "metadata": {},
   "outputs": [],
   "source": []
  },
  {
   "cell_type": "markdown",
   "id": "298b90fa",
   "metadata": {},
   "source": [
    "    1  \n",
    "   1 2 \n",
    "  1 2 3\n",
    " 1 2 3 4"
   ]
  },
  {
   "cell_type": "code",
   "execution_count": 4,
   "id": "27c392d4",
   "metadata": {},
   "outputs": [
    {
     "name": "stdout",
     "output_type": "stream",
     "text": [
      "    1  \n",
      "   1 2 \n",
      "  1 2 3\n",
      " 1 2 3 4\n"
     ]
    }
   ],
   "source": [
    "for i in range(1,5):\n",
    "    string=''\n",
    "    for j in range(1,i+1):\n",
    "        string=string+\" \"+str(j)\n",
    "    print(string.center(7))"
   ]
  },
  {
   "cell_type": "markdown",
   "id": "72bd96f1",
   "metadata": {},
   "source": [
    "    *\n",
    "   **\n",
    "  ***\n",
    " ****\n",
    "*****"
   ]
  },
  {
   "cell_type": "code",
   "execution_count": 8,
   "id": "0d20d0eb",
   "metadata": {},
   "outputs": [
    {
     "name": "stdout",
     "output_type": "stream",
     "text": [
      "    *\n",
      "   **\n",
      "  ***\n",
      " ****\n",
      "*****\n"
     ]
    }
   ],
   "source": [
    "for i in range(1,6):\n",
    "    print((\"*\"*i).rjust(5))"
   ]
  },
  {
   "cell_type": "markdown",
   "id": "00d8a423",
   "metadata": {},
   "source": [
    "    1\n",
    "   12\n",
    "  123\n",
    " 1234\n",
    "12345"
   ]
  },
  {
   "cell_type": "code",
   "execution_count": 35,
   "id": "c32688dc",
   "metadata": {},
   "outputs": [
    {
     "name": "stdout",
     "output_type": "stream",
     "text": [
      "    1\n",
      "   12\n",
      "  123\n",
      " 1234\n",
      "12345\n"
     ]
    }
   ],
   "source": [
    "for i in range(1,6):\n",
    "    string=''\n",
    "    for j in range(1,i+1):\n",
    "        string=string+str(j)\n",
    "    print(string.rjust(5),end='')\n",
    "    print()"
   ]
  },
  {
   "cell_type": "markdown",
   "id": "327f2511",
   "metadata": {},
   "source": [
    "    *     \n",
    "   ***    \n",
    "  *****   \n",
    " *******  "
   ]
  },
  {
   "cell_type": "code",
   "execution_count": 36,
   "id": "34b8f844",
   "metadata": {},
   "outputs": [
    {
     "name": "stdout",
     "output_type": "stream",
     "text": [
      "    *     \n",
      "   ***    \n",
      "  *****   \n",
      " *******  \n"
     ]
    }
   ],
   "source": [
    "for i in range(1,9,2):\n",
    "    print((\"*\"*i).center(10))"
   ]
  },
  {
   "cell_type": "markdown",
   "id": "872d2895",
   "metadata": {},
   "source": [
    "    1     \n",
    "   222    \n",
    "  33333   \n",
    " 4444444  \n",
    "555555555 "
   ]
  },
  {
   "cell_type": "code",
   "execution_count": 42,
   "id": "c686779a",
   "metadata": {},
   "outputs": [
    {
     "name": "stdout",
     "output_type": "stream",
     "text": [
      "    1     \n",
      "   222    \n",
      "  33333   \n",
      " 4444444  \n",
      "555555555 \n"
     ]
    }
   ],
   "source": [
    "for i in range(1,6,):\n",
    "        print((str(i)*(2*i-1)).center(10))"
   ]
  },
  {
   "cell_type": "markdown",
   "id": "64b8f82d",
   "metadata": {},
   "source": [
    "555555555 \n",
    " 4444444  \n",
    "  33333   \n",
    "   222    \n",
    "    1     "
   ]
  },
  {
   "cell_type": "code",
   "execution_count": 62,
   "id": "02fa529a",
   "metadata": {},
   "outputs": [
    {
     "name": "stdout",
     "output_type": "stream",
     "text": [
      "555555555 \n",
      " 4444444  \n",
      "  33333   \n",
      "   222    \n",
      "    1     \n"
     ]
    }
   ],
   "source": [
    "for i in range(5,0,-1):\n",
    "        print((str(i)*(2*i-1)).center(10))"
   ]
  },
  {
   "cell_type": "markdown",
   "id": "1ef569d3",
   "metadata": {},
   "source": [
    "123456789 \n",
    " 1234567  \n",
    "  12345   \n",
    "   123    \n",
    "    1     "
   ]
  },
  {
   "cell_type": "code",
   "execution_count": 67,
   "id": "7769fe81",
   "metadata": {},
   "outputs": [
    {
     "name": "stdout",
     "output_type": "stream",
     "text": [
      "123456789 \n",
      " 1234567  \n",
      "  12345   \n",
      "   123    \n",
      "    1     \n"
     ]
    }
   ],
   "source": [
    "for i in range(9,0,-2):\n",
    "    string=''\n",
    "    for j in range(1,i+1):\n",
    "        string=string+str(j)\n",
    "    print(string.center(10),end='')\n",
    "    print()"
   ]
  },
  {
   "cell_type": "markdown",
   "id": "33770d28",
   "metadata": {},
   "source": [
    "567898765 \n",
    " 4567654  \n",
    "  34543   \n",
    "   232    \n",
    "    1   "
   ]
  },
  {
   "cell_type": "code",
   "execution_count": 68,
   "id": "8cada0c1",
   "metadata": {},
   "outputs": [
    {
     "name": "stdout",
     "output_type": "stream",
     "text": [
      "567898765 \n",
      " 4567654  \n",
      "  34543   \n",
      "   232    \n",
      "    1     \n"
     ]
    }
   ],
   "source": [
    "for i in range(5,0,-1):\n",
    "    count=i\n",
    "    string=\"\"\n",
    "    for j in range(1,2*i):\n",
    "        string=string+str(count)\n",
    "        if j>=(2*i)/2:\n",
    "            count-=1\n",
    "        else:\n",
    "            count+=1\n",
    "    print(string.center(10))"
   ]
  },
  {
   "cell_type": "markdown",
   "id": "4995fe91",
   "metadata": {},
   "source": [
    "543212345 \n",
    " 5432345  \n",
    "  54345   \n",
    "   545    \n",
    "    5     "
   ]
  },
  {
   "cell_type": "code",
   "execution_count": 69,
   "id": "a8f0ca75",
   "metadata": {},
   "outputs": [
    {
     "name": "stdout",
     "output_type": "stream",
     "text": [
      "543212345 \n",
      " 5432345  \n",
      "  54345   \n",
      "   545    \n",
      "    5     \n"
     ]
    }
   ],
   "source": [
    "for i in range(5,0,-1):\n",
    "    raw=5\n",
    "    string=\"\"\n",
    "    for j in range(1,2*i):\n",
    "        string=string+str(raw)\n",
    "        if j>=(2*i/2):\n",
    "            raw+=1\n",
    "        else:\n",
    "            raw-=1\n",
    "    print(string.center(10))"
   ]
  },
  {
   "cell_type": "markdown",
   "id": "26a9a936",
   "metadata": {},
   "source": [
    "    *     \n",
    "   ***    \n",
    "  *****   \n",
    " *******  \n",
    "********* \n",
    " *******  \n",
    "  *****   \n",
    "   ***    \n",
    "    *     "
   ]
  },
  {
   "cell_type": "code",
   "execution_count": 74,
   "id": "fb86d0d4",
   "metadata": {},
   "outputs": [
    {
     "name": "stdout",
     "output_type": "stream",
     "text": [
      "    *     \n",
      "   ***    \n",
      "  *****   \n",
      " *******  \n",
      "********* \n",
      " *******  \n",
      "  *****   \n",
      "   ***    \n",
      "    *     \n"
     ]
    }
   ],
   "source": [
    "for i in range(1,11,2):\n",
    "    print((\"*\"*i).center(10))\n",
    "for i in range(7,0,-2):\n",
    "    print((\"*\"*i).center(10))"
   ]
  },
  {
   "cell_type": "markdown",
   "id": "bb81ce65",
   "metadata": {},
   "source": [
    "    1     \n",
    "   222    \n",
    "  33333   \n",
    " 4444444  \n",
    "555555555 \n",
    " 4444444  \n",
    "  33333   \n",
    "   222    \n",
    "    1    "
   ]
  },
  {
   "cell_type": "code",
   "execution_count": 76,
   "id": "e8d705ee",
   "metadata": {},
   "outputs": [
    {
     "name": "stdout",
     "output_type": "stream",
     "text": [
      "    1     \n",
      "   222    \n",
      "  33333   \n",
      " 4444444  \n",
      "555555555 \n",
      " 4444444  \n",
      "  33333   \n",
      "   222    \n",
      "    1     \n"
     ]
    }
   ],
   "source": [
    "for i in range(1,6):\n",
    "        print((str(i)*(2*i-1)).center(10))\n",
    "for i in range(4,0,-1):\n",
    "        print((str(i)*(2*i-1)).center(10))"
   ]
  },
  {
   "cell_type": "markdown",
   "id": "daff5d79",
   "metadata": {},
   "source": [
    "    1     \n",
    "   123    \n",
    "  12345   \n",
    " 1234567  \n",
    "123456789 \n",
    " 1234567  \n",
    "  12345   \n",
    "   123    \n",
    "    1     "
   ]
  },
  {
   "cell_type": "code",
   "execution_count": 79,
   "id": "cce1c775",
   "metadata": {},
   "outputs": [
    {
     "name": "stdout",
     "output_type": "stream",
     "text": [
      "    1     \n",
      "   123    \n",
      "  12345   \n",
      " 1234567  \n",
      "123456789 \n",
      " 1234567  \n",
      "  12345   \n",
      "   123    \n",
      "    1     \n"
     ]
    }
   ],
   "source": [
    "for i in range(1,10,2):\n",
    "    string=''\n",
    "    for j in range(1,i+1):\n",
    "        string=string+str(j)\n",
    "    print(string.center(10),end='')\n",
    "    print()\n",
    "for i in range(7,0,-2):\n",
    "    string=''\n",
    "    for j in range(1,i+1):\n",
    "        string=string+str(j)\n",
    "    print(string.center(10),end='')\n",
    "    print()"
   ]
  },
  {
   "cell_type": "markdown",
   "id": "3fcfe1df",
   "metadata": {},
   "source": [
    "    5     \n",
    "   545    \n",
    "  54345   \n",
    " 5432345  \n",
    "543212345 \n",
    " 5432345  \n",
    "  54345   \n",
    "   545    \n",
    "    5     \n",
    "\n"
   ]
  },
  {
   "cell_type": "code",
   "execution_count": 81,
   "id": "48b8a027",
   "metadata": {},
   "outputs": [
    {
     "name": "stdout",
     "output_type": "stream",
     "text": [
      "    5     \n",
      "   545    \n",
      "  54345   \n",
      " 5432345  \n",
      "543212345 \n",
      " 5432345  \n",
      "  54345   \n",
      "   545    \n",
      "    5     \n"
     ]
    }
   ],
   "source": [
    "for i in range(1,6):\n",
    "    raw=5\n",
    "    string=\"\"\n",
    "    for j in range(1,2*i):\n",
    "        string=string+str(raw)\n",
    "        if j>=(2*i/2):\n",
    "            raw+=1\n",
    "        else:\n",
    "            raw-=1\n",
    "    print(string.center(10))\n",
    "for i in range(4,0,-1):\n",
    "    raw=5\n",
    "    string=\"\"\n",
    "    for j in range(1,2*i):\n",
    "        string=string+str(raw)\n",
    "        if j>=(2*i/2):\n",
    "            raw+=1\n",
    "        else:\n",
    "            raw-=1\n",
    "    print(string.center(10))"
   ]
  },
  {
   "cell_type": "code",
   "execution_count": 20,
   "id": "9ac5f663",
   "metadata": {},
   "outputs": [
    {
     "name": "stdout",
     "output_type": "stream",
     "text": [
      "---------------.|.---------------\n",
      "------------.|..|..|.------------\n",
      "---------.|..|..|..|..|.---------\n",
      "------.|..|..|..|..|..|..|.------\n",
      "---.|..|..|..|..|..|..|..|..|.---\n",
      "-------------WELCOME-------------\n",
      "--.|..|..|..|..|..|..|..|..|..|.-\n",
      "-----.|..|..|..|..|..|..|..|.----\n",
      "--------.|..|..|..|..|..|.-------\n",
      "-----------.|..|..|..|.----------\n",
      "--------------.|..|.-------------\n"
     ]
    }
   ],
   "source": [
    "for i in range(1,10,2):\n",
    "    print((\".|.\"*i).center(33,\"-\"))\n",
    "\n",
    "print((\"WELCOME\").center(33,\"-\"))\n",
    "for j in range(10,0,-2):\n",
    "    print((\".|.\"*j).center(33,\"-\"))"
   ]
  },
  {
   "cell_type": "code",
   "execution_count": 20,
   "id": "1cfe051d",
   "metadata": {},
   "outputs": [
    {
     "name": "stdout",
     "output_type": "stream",
     "text": [
      "-------------------j-----------------\n",
      "-----------------j-i-j---------------\n",
      "---------------j-i-h-i-j-------------\n",
      "-------------j-i-h-g-h-i-j-----------\n",
      "-----------j-i-h-g-f-g-h-i-j---------\n",
      "---------j-i-h-g-f-e-f-g-h-i-j-------\n",
      "-------j-i-h-g-f-e-d-e-f-g-h-i-j-----\n",
      "-----j-i-h-g-f-e-d-c-d-e-f-g-h-i-j---\n",
      "---j-i-h-g-f-e-d-c-b-c-d-e-f-g-h-i-j-\n",
      "-j-i-h-g-f-e-d-c-b-a-b-c-d-e-f-g-h-i-j\n",
      "---j-i-h-g-f-e-d-c-b-c-d-e-f-g-h-i-j-\n",
      "-------j-i-h-g-f-e-d-e-f-g-h-i-j-----\n",
      "-----------j-i-h-g-f-g-h-i-j---------\n",
      "---------------j-i-h-i-j-------------\n",
      "-------------------j-----------------\n"
     ]
    }
   ],
   "source": [
    "for i in range(1,11):\n",
    "    string=''\n",
    "    temp='j'\n",
    "    for j in range(1,2*i):\n",
    "        string=string+\"-\"+temp\n",
    "        if j<(2*i/2):\n",
    "            p=ord(temp)-1\n",
    "            temp=chr(p)\n",
    "        else:\n",
    "            p=ord(temp)+1\n",
    "            temp=chr(p)\n",
    "    print(string.center(37,\"-\"))\n",
    "for i in range(9,0,-2):\n",
    "    string=''\n",
    "    temp='j'\n",
    "    for j in range(1,2*i):\n",
    "        string=string+\"-\"+temp\n",
    "        if j<(2*i/2):\n",
    "            p=ord(temp)-1\n",
    "            temp=chr(p)\n",
    "        else:\n",
    "            p=ord(temp)+1\n",
    "            temp=chr(p)\n",
    "    print(string.center(37,\"-\"))"
   ]
  },
  {
   "cell_type": "code",
   "execution_count": 22,
   "id": "ae9155ab",
   "metadata": {},
   "outputs": [
    {
     "name": "stdout",
     "output_type": "stream",
     "text": [
      "h\n",
      "e\n",
      "l\n",
      "o\n",
      "w\n"
     ]
    }
   ],
   "source": [
    "string=\"helow\"\n",
    "for i in string:\n",
    "    print(i)"
   ]
  },
  {
   "cell_type": "code",
   "execution_count": 23,
   "id": "25400b7b",
   "metadata": {},
   "outputs": [
    {
     "name": "stdout",
     "output_type": "stream",
     "text": [
      "None\n"
     ]
    }
   ],
   "source": [
    "#lex_auth_012693825794351104168\n",
    "\n",
    "def find_common_characters(msg1,msg2):\n",
    "    string=''\n",
    "    for i in msg1:\n",
    "        if i in msg2:\n",
    "            string=string+i\n",
    "\n",
    "#Provide different values for msg1,msg2 and test your program\n",
    "msg1=\"I like Python\"\n",
    "msg2=\"Java is a very popular language\"\n",
    "common_characters=find_common_characters(msg1,msg2)\n",
    "print(common_characters)"
   ]
  }
 ],
 "metadata": {
  "kernelspec": {
   "display_name": "Python 3 (ipykernel)",
   "language": "python",
   "name": "python3"
  },
  "language_info": {
   "codemirror_mode": {
    "name": "ipython",
    "version": 3
   },
   "file_extension": ".py",
   "mimetype": "text/x-python",
   "name": "python",
   "nbconvert_exporter": "python",
   "pygments_lexer": "ipython3",
   "version": "3.9.7"
  }
 },
 "nbformat": 4,
 "nbformat_minor": 5
}
